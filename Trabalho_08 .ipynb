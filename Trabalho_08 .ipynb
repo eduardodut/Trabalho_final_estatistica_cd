{
  "nbformat": 4,
  "nbformat_minor": 0,
  "metadata": {
    "colab": {
      "name": "Trabalho_08.ipynb",
      "provenance": [],
      "toc_visible": true
    },
    "kernelspec": {
      "name": "python3",
      "display_name": "Python 3"
    }
  },
  "cells": [
    {
      "cell_type": "markdown",
      "metadata": {
        "id": "BWpFzDtjjFXM",
        "colab_type": "text"
      },
      "source": [
        "# Trabalho final de estatística para Ciência de Dados"
      ]
    },
    {
      "cell_type": "markdown",
      "metadata": {
        "id": "H5UlSJwskOBm",
        "colab_type": "text"
      },
      "source": [
        "## Enunciado"
      ]
    },
    {
      "cell_type": "markdown",
      "metadata": {
        "id": "yL9i-hcBkR9O",
        "colab_type": "text"
      },
      "source": [
        "Objetivos: Aplicar os conhecimentos em estatística.\n",
        "Dada uma matriz n x n esférica:\n",
        "Esférica: o indivíduo, digamos na borda direita pode ainda se deslocar para a direita,\n",
        "surgindo na borda esquerda da matriz. O mesmo acontece para as outras bordas;\n",
        "1. Alimentá-la inicialmente com os seguintes indivíduos:\n",
        "\n",
        "  1.1. Um infectado, cuja posição é aleatória;\n",
        "  \n",
        "  1.2. Um número randômico de assintomáticos, cujas posições são aleatórias;\n",
        "  \n",
        "  1.3. Um número randômico de sintomáticos, cujas posições são aleatórias;\n",
        "\n",
        "2. A forma de desenvolvimento:\n",
        "  \n",
        "  2.1. A rede evolui em passos, cada passo significa a mudança de todos os indivíduos\n",
        "  infectados de posição. Antes disso, ele realiza todas as tarefas de infecção sobre os\n",
        "  outros indivíduos;\n",
        "3. A mobilidade;\n",
        "\n",
        "  3.1. Somente os indivíduos infectados caminham ou mudam de posição no passo. Os\n",
        "outros indivíduos permanecem estáticos;\n",
        "\n",
        "  3.2. Apenas indivíduos infectados circulam na rede\n",
        "4. O indivíduo infectado deverá infectar os seus vizinhos diretos (não diagonais) em dois\n",
        "casos, desenvolvidos separadamente:\n",
        "\n",
        "  4.1. Apenas com 30% de chance;\n",
        "\n",
        "  4.2. Com 100% de chance;\n",
        "5. A infecção:\n",
        "\n",
        "  5.1. O infectado adquiri a propriedade de infectar;\n",
        "  \n",
        "  5.2. O infectante infecta os seus vizinhos, considerando as regras do item 4;\n",
        "    \n",
        "    5.2.1. O indivíduo assintomático apresenta uma infecção do tipo 1;\n",
        "    \n",
        "    5.2.2. Os indivíduos sintomáticos apresentam uma infecção tipo 2:\n",
        "    \n",
        "    5.2.3. O programa deve escolher quem é sintomático com chance de 20%.\n",
        "6. A cura:\n",
        "\n",
        "  6.1. A cura dos infectados ocorre após 10 atualizações;\n",
        "7. A morte:\n",
        "\n",
        "  7.1. A morte pode ocorrer para os indivíduos do tipo 2, do início da infecção até a 10 atualização com 2% de chance;\n",
        "8. Para cada um dos casos do item 4, verifique com quantos passos sua rede atinge 100%\n",
        "de infectados e com 50% deste valor colha os seguintes dados:\n",
        "\n",
        "  8.1. Número de assintomáticos;\n",
        "  \n",
        "  8.2. Número de sintomáticos;\n",
        "  \n",
        "  8.3. Número de curados;\n",
        "  \n",
        "  8.4. Número de mortos;\n",
        "9. Os valores gerados no item 8, para cada caso do item 4, devem analisados\n",
        "estatisticamente e:\n",
        "\n",
        "  9.1. Realize a estatística descritiva;\n",
        "\n",
        "  9.2. Verificar se o experimento se ajusta a uma distribuição normal.\n",
        "\n",
        "  9.3. Verifique com quantos passos sua rede atinge 100% de infectados:\n",
        "\n",
        "    9.3.1. Com base nestes dados, verifique com 95% de confiança, qual o número de cada indivíduo no passo n/2+1;\n",
        "    \n",
        "    9.3.2. Verifique a independência das contaminações entre assintomáticos e\n",
        "    sintomáticos através de CHI-Square, com base na seguinte relação: são\n",
        "    esperados 18% de doentes e 80% de assintomáticos e 2% de mortos;"
      ]
    },
    {
      "cell_type": "code",
      "metadata": {
        "id": "6VJoPxj5ebhl",
        "colab_type": "code",
        "colab": {
          "base_uri": "https://localhost:8080/",
          "height": 136
        },
        "outputId": "c256958d-b35a-46b2-a26a-ed2800217d3a"
      },
      "source": [
        "# %cd /content\n",
        "!git clone https://github.com/eduardodut/Trabalho_final_estatistica_cd.git\n",
        "\n",
        "# %matplotlib inline"
      ],
      "execution_count": 8,
      "outputs": [
        {
          "output_type": "stream",
          "text": [
            "Cloning into 'Trabalho_final_estatistica_cd'...\n",
            "remote: Enumerating objects: 256, done.\u001b[K\n",
            "remote: Counting objects:   0% (1/256)\u001b[K\rremote: Counting objects:   1% (3/256)\u001b[K\rremote: Counting objects:   2% (6/256)\u001b[K\rremote: Counting objects:   3% (8/256)\u001b[K\rremote: Counting objects:   4% (11/256)\u001b[K\rremote: Counting objects:   5% (13/256)\u001b[K\rremote: Counting objects:   6% (16/256)\u001b[K\rremote: Counting objects:   7% (18/256)\u001b[K\rremote: Counting objects:   8% (21/256)\u001b[K\rremote: Counting objects:   9% (24/256)\u001b[K\rremote: Counting objects:  10% (26/256)\u001b[K\rremote: Counting objects:  11% (29/256)\u001b[K\rremote: Counting objects:  12% (31/256)\u001b[K\rremote: Counting objects:  13% (34/256)\u001b[K\rremote: Counting objects:  14% (36/256)\u001b[K\rremote: Counting objects:  15% (39/256)\u001b[K\rremote: Counting objects:  16% (41/256)\u001b[K\rremote: Counting objects:  17% (44/256)\u001b[K\rremote: Counting objects:  18% (47/256)\u001b[K\rremote: Counting objects:  19% (49/256)\u001b[K\rremote: Counting objects:  20% (52/256)\u001b[K\rremote: Counting objects:  21% (54/256)\u001b[K\rremote: Counting objects:  22% (57/256)\u001b[K\rremote: Counting objects:  23% (59/256)\u001b[K\rremote: Counting objects:  24% (62/256)\u001b[K\rremote: Counting objects:  25% (64/256)\u001b[K\rremote: Counting objects:  26% (67/256)\u001b[K\rremote: Counting objects:  27% (70/256)\u001b[K\rremote: Counting objects:  28% (72/256)\u001b[K\rremote: Counting objects:  29% (75/256)\u001b[K\rremote: Counting objects:  30% (77/256)\u001b[K\rremote: Counting objects:  31% (80/256)\u001b[K\rremote: Counting objects:  32% (82/256)\u001b[K\rremote: Counting objects:  33% (85/256)\u001b[K\rremote: Counting objects:  34% (88/256)\u001b[K\rremote: Counting objects:  35% (90/256)\u001b[K\rremote: Counting objects:  36% (93/256)\u001b[K\rremote: Counting objects:  37% (95/256)\u001b[K\rremote: Counting objects:  38% (98/256)\u001b[K\rremote: Counting objects:  39% (100/256)\u001b[K\rremote: Counting objects:  40% (103/256)\u001b[K\rremote: Counting objects:  41% (105/256)\u001b[K\rremote: Counting objects:  42% (108/256)\u001b[K\rremote: Counting objects:  43% (111/256)\u001b[K\rremote: Counting objects:  44% (113/256)\u001b[K\rremote: Counting objects:  45% (116/256)\u001b[K\rremote: Counting objects:  46% (118/256)\u001b[K\rremote: Counting objects:  47% (121/256)\u001b[K\rremote: Counting objects:  48% (123/256)\u001b[K\rremote: Counting objects:  49% (126/256)\u001b[K\rremote: Counting objects:  50% (128/256)\u001b[K\rremote: Counting objects:  51% (131/256)\u001b[K\rremote: Counting objects:  52% (134/256)\u001b[K\rremote: Counting objects:  53% (136/256)\u001b[K\rremote: Counting objects:  54% (139/256)\u001b[K\rremote: Counting objects:  55% (141/256)\u001b[K\rremote: Counting objects:  56% (144/256)\u001b[K\rremote: Counting objects:  57% (146/256)\u001b[K\rremote: Counting objects:  58% (149/256)\u001b[K\rremote: Counting objects:  59% (152/256)\u001b[K\rremote: Counting objects:  60% (154/256)\u001b[K\rremote: Counting objects:  61% (157/256)\u001b[K\rremote: Counting objects:  62% (159/256)\u001b[K\rremote: Counting objects:  63% (162/256)\u001b[K\rremote: Counting objects:  64% (164/256)\u001b[K\rremote: Counting objects:  65% (167/256)\u001b[K\rremote: Counting objects:  66% (169/256)\u001b[K\rremote: Counting objects:  67% (172/256)\u001b[K\rremote: Counting objects:  68% (175/256)\u001b[K\rremote: Counting objects:  69% (177/256)\u001b[K\rremote: Counting objects:  70% (180/256)\u001b[K\rremote: Counting objects:  71% (182/256)\u001b[K\rremote: Counting objects:  72% (185/256)\u001b[K\rremote: Counting objects:  73% (187/256)\u001b[K\rremote: Counting objects:  74% (190/256)\u001b[K\rremote: Counting objects:  75% (192/256)\u001b[K\rremote: Counting objects:  76% (195/256)\u001b[K\rremote: Counting objects:  77% (198/256)\u001b[K\rremote: Counting objects:  78% (200/256)\u001b[K\rremote: Counting objects:  79% (203/256)\u001b[K\rremote: Counting objects:  80% (205/256)\u001b[K\rremote: Counting objects:  81% (208/256)\u001b[K\rremote: Counting objects:  82% (210/256)\u001b[K\rremote: Counting objects:  83% (213/256)\u001b[K\rremote: Counting objects:  84% (216/256)\u001b[K\rremote: Counting objects:  85% (218/256)\u001b[K\rremote: Counting objects:  86% (221/256)\u001b[K\rremote: Counting objects:  87% (223/256)\u001b[K\rremote: Counting objects:  88% (226/256)\u001b[K\rremote: Counting objects:  89% (228/256)\u001b[K\rremote: Counting objects:  90% (231/256)\u001b[K\rremote: Counting objects:  91% (233/256)\u001b[K\rremote: Counting objects:  92% (236/256)\u001b[K\rremote: Counting objects:  93% (239/256)\u001b[K\rremote: Counting objects:  94% (241/256)\u001b[K\rremote: Counting objects:  95% (244/256)\u001b[K\rremote: Counting objects:  96% (246/256)\u001b[K\rremote: Counting objects:  97% (249/256)\u001b[K\rremote: Counting objects:  98% (251/256)\u001b[K\rremote: Counting objects:  99% (254/256)\u001b[K\rremote: Counting objects: 100% (256/256)\u001b[K\rremote: Counting objects: 100% (256/256), done.\u001b[K\n",
            "remote: Compressing objects:   2% (1/48)\u001b[K\rremote: Compressing objects:   4% (2/48)\u001b[K\rremote: Compressing objects:   6% (3/48)\u001b[K\rremote: Compressing objects:   8% (4/48)\u001b[K\rremote: Compressing objects:  10% (5/48)\u001b[K\rremote: Compressing objects:  12% (6/48)\u001b[K\rremote: Compressing objects:  14% (7/48)\u001b[K\rremote: Compressing objects:  16% (8/48)\u001b[K\rremote: Compressing objects:  18% (9/48)\u001b[K\rremote: Compressing objects:  20% (10/48)\u001b[K\rremote: Compressing objects:  22% (11/48)\u001b[K\rremote: Compressing objects:  25% (12/48)\u001b[K\rremote: Compressing objects:  27% (13/48)\u001b[K\rremote: Compressing objects:  29% (14/48)\u001b[K\rremote: Compressing objects:  31% (15/48)\u001b[K\rremote: Compressing objects:  33% (16/48)\u001b[K\rremote: Compressing objects:  35% (17/48)\u001b[K\rremote: Compressing objects:  37% (18/48)\u001b[K\rremote: Compressing objects:  39% (19/48)\u001b[K\rremote: Compressing objects:  41% (20/48)\u001b[K\rremote: Compressing objects:  43% (21/48)\u001b[K\rremote: Compressing objects:  45% (22/48)\u001b[K\rremote: Compressing objects:  47% (23/48)\u001b[K\rremote: Compressing objects:  50% (24/48)\u001b[K\rremote: Compressing objects:  52% (25/48)\u001b[K\rremote: Compressing objects:  54% (26/48)\u001b[K\rremote: Compressing objects:  56% (27/48)\u001b[K\rremote: Compressing objects:  58% (28/48)\u001b[K\rremote: Compressing objects:  60% (29/48)\u001b[K\rremote: Compressing objects:  62% (30/48)\u001b[K\rremote: Compressing objects:  64% (31/48)\u001b[K\rremote: Compressing objects:  66% (32/48)\u001b[K\rremote: Compressing objects:  68% (33/48)\u001b[K\rremote: Compressing objects:  70% (34/48)\u001b[K\rremote: Compressing objects:  72% (35/48)\u001b[K\rremote: Compressing objects:  75% (36/48)\u001b[K\rremote: Compressing objects:  77% (37/48)\u001b[K\rremote: Compressing objects:  79% (38/48)\u001b[K\rremote: Compressing objects:  81% (39/48)\u001b[K\rremote: Compressing objects:  83% (40/48)\u001b[K\rremote: Compressing objects:  85% (41/48)\u001b[K\rremote: Compressing objects:  87% (42/48)\u001b[K\rremote: Compressing objects:  89% (43/48)\u001b[K\rremote: Compressing objects:  91% (44/48)\u001b[K\rremote: Compressing objects:  93% (45/48)\u001b[K\rremote: Compressing objects:  95% (46/48)\u001b[K\rremote: Compressing objects:  97% (47/48)\u001b[K\rremote: Compressing objects: 100% (48/48)\u001b[K\rremote: Compressing objects: 100% (48/48), done.\u001b[K\n",
            "Receiving objects:   0% (1/256)   \rReceiving objects:   1% (3/256)   \rReceiving objects:   2% (6/256)   \rReceiving objects:   3% (8/256)   \rReceiving objects:   4% (11/256)   \rReceiving objects:   5% (13/256)   \rReceiving objects:   6% (16/256)   \rReceiving objects:   7% (18/256)   \rReceiving objects:   8% (21/256)   \rReceiving objects:   9% (24/256)   \rReceiving objects:  10% (26/256)   \rReceiving objects:  11% (29/256)   \rReceiving objects:  12% (31/256)   \rReceiving objects:  13% (34/256)   \rReceiving objects:  14% (36/256)   \rReceiving objects:  15% (39/256)   \rReceiving objects:  16% (41/256)   \rReceiving objects:  17% (44/256)   \rReceiving objects:  18% (47/256)   \rReceiving objects:  19% (49/256)   \rReceiving objects:  20% (52/256)   \rReceiving objects:  21% (54/256)   \rReceiving objects:  22% (57/256)   \rReceiving objects:  23% (59/256)   \rReceiving objects:  24% (62/256)   \rReceiving objects:  25% (64/256)   \rReceiving objects:  26% (67/256)   \rReceiving objects:  27% (70/256)   \rReceiving objects:  28% (72/256)   \rReceiving objects:  29% (75/256)   \rReceiving objects:  30% (77/256)   \rReceiving objects:  31% (80/256)   \rReceiving objects:  32% (82/256)   \rReceiving objects:  33% (85/256)   \rReceiving objects:  34% (88/256)   \rReceiving objects:  35% (90/256)   \rReceiving objects:  36% (93/256)   \rReceiving objects:  37% (95/256)   \rReceiving objects:  38% (98/256)   \rReceiving objects:  39% (100/256)   \rReceiving objects:  40% (103/256)   \rReceiving objects:  41% (105/256)   \rReceiving objects:  42% (108/256)   \rReceiving objects:  43% (111/256)   \rReceiving objects:  44% (113/256)   \rReceiving objects:  45% (116/256)   \rReceiving objects:  46% (118/256)   \rremote: Total 256 (delta 221), reused 235 (delta 200), pack-reused 0\u001b[K\n",
            "Receiving objects:  47% (121/256)   \rReceiving objects:  48% (123/256)   \rReceiving objects:  49% (126/256)   \rReceiving objects:  50% (128/256)   \rReceiving objects:  51% (131/256)   \rReceiving objects:  52% (134/256)   \rReceiving objects:  53% (136/256)   \rReceiving objects:  54% (139/256)   \rReceiving objects:  55% (141/256)   \rReceiving objects:  56% (144/256)   \rReceiving objects:  57% (146/256)   \rReceiving objects:  58% (149/256)   \rReceiving objects:  59% (152/256)   \rReceiving objects:  60% (154/256)   \rReceiving objects:  61% (157/256)   \rReceiving objects:  62% (159/256)   \rReceiving objects:  63% (162/256)   \rReceiving objects:  64% (164/256)   \rReceiving objects:  65% (167/256)   \rReceiving objects:  66% (169/256)   \rReceiving objects:  67% (172/256)   \rReceiving objects:  68% (175/256)   \rReceiving objects:  69% (177/256)   \rReceiving objects:  70% (180/256)   \rReceiving objects:  71% (182/256)   \rReceiving objects:  72% (185/256)   \rReceiving objects:  73% (187/256)   \rReceiving objects:  74% (190/256)   \rReceiving objects:  75% (192/256)   \rReceiving objects:  76% (195/256)   \rReceiving objects:  77% (198/256)   \rReceiving objects:  78% (200/256)   \rReceiving objects:  79% (203/256)   \rReceiving objects:  80% (205/256)   \rReceiving objects:  81% (208/256)   \rReceiving objects:  82% (210/256)   \rReceiving objects:  83% (213/256)   \rReceiving objects:  84% (216/256)   \rReceiving objects:  85% (218/256)   \rReceiving objects:  86% (221/256)   \rReceiving objects:  87% (223/256)   \rReceiving objects:  88% (226/256)   \rReceiving objects:  89% (228/256)   \rReceiving objects:  90% (231/256)   \rReceiving objects:  91% (233/256)   \rReceiving objects:  92% (236/256)   \rReceiving objects:  93% (239/256)   \rReceiving objects:  94% (241/256)   \rReceiving objects:  95% (244/256)   \rReceiving objects:  96% (246/256)   \rReceiving objects:  97% (249/256)   \rReceiving objects:  98% (251/256)   \rReceiving objects:  99% (254/256)   \rReceiving objects: 100% (256/256)   \rReceiving objects: 100% (256/256), 42.09 KiB | 3.01 MiB/s, done.\n",
            "Resolving deltas:   0% (0/221)   \rResolving deltas:   1% (3/221)   \rResolving deltas:   8% (18/221)   \rResolving deltas:  17% (39/221)   \rResolving deltas:  26% (58/221)   \rResolving deltas:  33% (74/221)   \rResolving deltas:  34% (77/221)   \rResolving deltas:  35% (78/221)   \rResolving deltas:  47% (105/221)   \rResolving deltas:  48% (107/221)   \rResolving deltas: 100% (221/221)   \rResolving deltas: 100% (221/221), done.\n"
          ],
          "name": "stdout"
        }
      ]
    },
    {
      "cell_type": "code",
      "metadata": {
        "id": "YRvIso8IrbEs",
        "colab_type": "code",
        "colab": {
          "base_uri": "https://localhost:8080/",
          "height": 34
        },
        "outputId": "46a4242f-d8cc-4b49-ad3f-9aedf7c86c6c"
      },
      "source": [
        "%cd Trabalho_final_estatistica_cd/src\n",
        "from Simulador import Simulador"
      ],
      "execution_count": 9,
      "outputs": [
        {
          "output_type": "stream",
          "text": [
            "/content/Trabalho_final_estatistica_cd/src/Trabalho_final_estatistica_cd/src/Trabalho_final_estatistica_cd/src\n"
          ],
          "name": "stdout"
        }
      ]
    },
    {
      "cell_type": "code",
      "metadata": {
        "id": "-fs6dYUB5H0N",
        "colab_type": "code",
        "colab": {
          "base_uri": "https://localhost:8080/",
          "height": 357
        },
        "outputId": "087d7bad-4259-4e6e-bc66-f2b28a117ec1"
      },
      "source": [
        "chance_infeccao = 0.3             \n",
        "chance_infeccao_tipo2 = 0.2       \n",
        "chance_morte = 0.2                \n",
        "atualizacoes_cura = 10           \n",
        "percentual_inicial_tipo1 = 0.05    \n",
        "percentual_inicial_tipo2 = 0.01\n",
        "\n",
        "\n",
        "sim = Simulador(\n",
        "    10,\n",
        "    percentual_inicial_tipo1, \n",
        "    percentual_inicial_tipo2, \n",
        "    chance_infeccao,\n",
        "    chance_infeccao_tipo2,\n",
        "    chance_morte,atualizacoes_cura)\n",
        "\n",
        "# dict = {'num_sadios':1,\n",
        "#                 'num_infect_t1':2,\n",
        "#                 'num_infect_t2':3,\n",
        "#                 'num_curados':4,\n",
        "#                 'num_mortos':5}\n",
        "# s = pd.Series(dict)                \n",
        "# sim.dataframe = sim.dataframe.append(s, ignore_index=True)\n",
        "\n",
        "print(sim.matriz_individuos)\n",
        "print(sim.matriz_individuos.flatten().reshape(10,10))\n",
        "#print(sim.num_inicial_tipo2)\n",
        "\n",
        "# cmap = ListedColormap(['w', 'y', 'r', 'b', 'black'])\n",
        "# plt.matshow(sim.matriz_individuos, cmap = cmap);plt.show();\n",
        "\n",
        "\n"
      ],
      "execution_count": 13,
      "outputs": [
        {
          "output_type": "stream",
          "text": [
            "[[0. 0. 0. 0. 0. 0. 0. 0. 0. 0.]\n",
            " [0. 0. 2. 0. 0. 0. 0. 1. 0. 0.]\n",
            " [0. 0. 0. 0. 0. 0. 0. 0. 0. 0.]\n",
            " [0. 0. 1. 0. 0. 0. 0. 0. 0. 0.]\n",
            " [0. 0. 0. 0. 0. 0. 0. 0. 0. 0.]\n",
            " [0. 0. 1. 0. 0. 0. 0. 0. 0. 0.]\n",
            " [0. 0. 0. 0. 1. 0. 1. 0. 0. 0.]\n",
            " [0. 0. 0. 0. 0. 0. 0. 0. 0. 0.]\n",
            " [0. 0. 0. 0. 0. 0. 0. 0. 0. 0.]\n",
            " [0. 0. 0. 0. 0. 0. 0. 0. 0. 0.]]\n",
            "[[0. 0. 0. 0. 0. 0. 0. 0. 0. 0.]\n",
            " [0. 0. 2. 0. 0. 0. 0. 1. 0. 0.]\n",
            " [0. 0. 0. 0. 0. 0. 0. 0. 0. 0.]\n",
            " [0. 0. 1. 0. 0. 0. 0. 0. 0. 0.]\n",
            " [0. 0. 0. 0. 0. 0. 0. 0. 0. 0.]\n",
            " [0. 0. 1. 0. 0. 0. 0. 0. 0. 0.]\n",
            " [0. 0. 0. 0. 1. 0. 1. 0. 0. 0.]\n",
            " [0. 0. 0. 0. 0. 0. 0. 0. 0. 0.]\n",
            " [0. 0. 0. 0. 0. 0. 0. 0. 0. 0.]\n",
            " [0. 0. 0. 0. 0. 0. 0. 0. 0. 0.]]\n"
          ],
          "name": "stdout"
        }
      ]
    },
    {
      "cell_type": "code",
      "metadata": {
        "id": "UOADrwAs4C2m",
        "colab_type": "code",
        "colab": {
          "base_uri": "https://localhost:8080/",
          "height": 187
        },
        "outputId": "1b309dfc-7a4d-4f40-bd39-3c8d27526aa4"
      },
      "source": [
        "import numpy as np\n",
        "\n",
        "matriz_individuos = np.zeros([10,10])\n",
        "print(matriz_individuos.flatten().reshape(10,10))"
      ],
      "execution_count": 3,
      "outputs": [
        {
          "output_type": "stream",
          "text": [
            "[[0. 0. 0. 0. 0. 0. 0. 0. 0. 0.]\n",
            " [0. 0. 0. 0. 0. 0. 0. 0. 0. 0.]\n",
            " [0. 0. 0. 0. 0. 0. 0. 0. 0. 0.]\n",
            " [0. 0. 0. 0. 0. 0. 0. 0. 0. 0.]\n",
            " [0. 0. 0. 0. 0. 0. 0. 0. 0. 0.]\n",
            " [0. 0. 0. 0. 0. 0. 0. 0. 0. 0.]\n",
            " [0. 0. 0. 0. 0. 0. 0. 0. 0. 0.]\n",
            " [0. 0. 0. 0. 0. 0. 0. 0. 0. 0.]\n",
            " [0. 0. 0. 0. 0. 0. 0. 0. 0. 0.]\n",
            " [0. 0. 0. 0. 0. 0. 0. 0. 0. 0.]]\n"
          ],
          "name": "stdout"
        }
      ]
    },
    {
      "cell_type": "markdown",
      "metadata": {
        "id": "rLPawIbgjOsP",
        "colab_type": "text"
      },
      "source": [
        "## Simulações"
      ]
    },
    {
      "cell_type": "code",
      "metadata": {
        "id": "eVRUCTlGC0KQ",
        "colab_type": "code",
        "cellView": "form",
        "colab": {}
      },
      "source": [
        "\n",
        "\n",
        "\n",
        "\n",
        "\n",
        "\n",
        "\n",
        "\n",
        "\n",
        "\n",
        "\n",
        "\n",
        "\n",
        "\n",
        "#@title Gerar simulações\n",
        "#@markdown ### Selecione os parâmetros das simulações\n",
        "#@markdown ### O resultados podem ser acessados no dataframe \"simulacoes\"\n",
        "\n",
        "\n",
        "\n",
        "numero_simulacoes = 2156 #@param {type:\"slider\", min:1, max:5000, step:1}\n",
        "tamanho_matriz = 2056 #@param {type:\"slider\", min:10, max:10000, step:1}\n",
        "chance_infeccao = 30 #@param {type:\"slider\", min:0, max:100, step:1}\n",
        "chance_morte = 2 #@param {type:\"slider\", min:0, max:100, step:1}\n",
        "chance_assintomatico = 20 #@param {type:\"slider\", min:0, max:100, step:1}\n"
      ],
      "execution_count": null,
      "outputs": []
    },
    {
      "cell_type": "markdown",
      "metadata": {
        "id": "6z9yZUIyvhHZ",
        "colab_type": "text"
      },
      "source": [
        "*   população total da simulação\n",
        "*   num_inicial de sintomáticos\n",
        "*   num_inicial de assintomáticos\n",
        "*   percentual de chance de infecção\n",
        "\n",
        "*   numero de passos até 100% infectados\n",
        "    *   numero_mortos, \n",
        "    *   numero de doentes de cada tipo  \n",
        "    *   número de curados\n",
        "*   numero de passos até 50% infectados\n",
        "    *   numero_mortos, \n",
        "    *   numero de doentes de cada tipo  \n",
        "    *   número de curados\n",
        "*   numero de passos até extinção da doença da matriz\n",
        "    *   numero_mortos, \n",
        "    *   numero de doentes de cada tipo  \n",
        "    *   número de curados\n",
        "\n",
        "\n"
      ]
    },
    {
      "cell_type": "markdown",
      "metadata": {
        "id": "2RINKH9CjQrr",
        "colab_type": "text"
      },
      "source": [
        "## Testes estatísticos\n"
      ]
    },
    {
      "cell_type": "code",
      "metadata": {
        "id": "aia5LGESk2HW",
        "colab_type": "code",
        "colab": {}
      },
      "source": [
        ""
      ],
      "execution_count": null,
      "outputs": []
    },
    {
      "cell_type": "markdown",
      "metadata": {
        "id": "xRUI2YwYjWHA",
        "colab_type": "text"
      },
      "source": [
        "## Conclusões"
      ]
    },
    {
      "cell_type": "code",
      "metadata": {
        "id": "qZiF5RKuk3Gh",
        "colab_type": "code",
        "colab": {}
      },
      "source": [
        "# teste"
      ],
      "execution_count": null,
      "outputs": []
    }
  ]
}